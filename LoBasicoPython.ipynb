{
  "nbformat": 4,
  "nbformat_minor": 0,
  "metadata": {
    "colab": {
      "provenance": [],
      "authorship_tag": "ABX9TyPXP8vjL71Dfi3Hnm+XuiXK",
      "include_colab_link": true
    },
    "kernelspec": {
      "name": "python3",
      "display_name": "Python 3"
    },
    "language_info": {
      "name": "python"
    }
  },
  "cells": [
    {
      "cell_type": "markdown",
      "metadata": {
        "id": "view-in-github",
        "colab_type": "text"
      },
      "source": [
        "<a href=\"https://colab.research.google.com/github/RaulZV/Curso-Dart/blob/master/LoBasicoPython.ipynb\" target=\"_parent\"><img src=\"https://colab.research.google.com/assets/colab-badge.svg\" alt=\"Open In Colab\"/></a>"
      ]
    },
    {
      "cell_type": "markdown",
      "source": [
        "##Funciones\n",
        "Para definir una funcion utilizamos la palabra reservada DEF"
      ],
      "metadata": {
        "id": "CQaAwZE800Gj"
      }
    },
    {
      "cell_type": "code",
      "source": [
        "def hola():\n",
        "  print('Hola Raul')\n",
        "\n",
        "def suma(a,b):\n",
        "  return a+b\n",
        "\n",
        "hola()\n",
        "print(suma(4,3))"
      ],
      "metadata": {
        "colab": {
          "base_uri": "https://localhost:8080/"
        },
        "id": "PlQtbjyK02B_",
        "outputId": "02ac1826-965a-40d8-fc08-fabfb067b7c8"
      },
      "execution_count": 2,
      "outputs": [
        {
          "output_type": "stream",
          "name": "stdout",
          "text": [
            "Hola Raul\n",
            "7\n"
          ]
        }
      ]
    },
    {
      "cell_type": "markdown",
      "source": [
        "POO"
      ],
      "metadata": {
        "id": "rJwD9a5X3niu"
      }
    },
    {
      "cell_type": "code",
      "source": [
        "class Persona:\n",
        "  #constructor - inicializar variables\n",
        "  def __init__(self,nombre,edad):\n",
        "    self.nombre = nombre\n",
        "    self.edad = edad\n",
        "\n",
        "#objeto p1\n",
        "#instanciar Persona\n",
        "p1 = Persona('Raul',48)\n",
        "\n",
        "\n",
        "#imprime el atributo nombre del objeto p1\n",
        "print(p1.nombre)\n",
        "#imprime el atributo edad del objeto p1\n",
        "print(p1.edad)\n",
        "\n",
        "#otro ejemplo\n",
        "p3 = Persona('Juan',20)\n",
        "print(p3.nombre)\n",
        "print(p3.edad)\n",
        "\n",
        "print('tercer ejemplo')\n"
      ],
      "metadata": {
        "colab": {
          "base_uri": "https://localhost:8080/"
        },
        "id": "5RSuY9rB3pSv",
        "outputId": "c08421b1-d307-4e07-d308-ca7203d5c5fb"
      },
      "execution_count": 8,
      "outputs": [
        {
          "output_type": "stream",
          "name": "stdout",
          "text": [
            "Raul\n",
            "48\n",
            "Juan\n",
            "20\n",
            "tercer ejemplo\n"
          ]
        }
      ]
    }
  ]
}